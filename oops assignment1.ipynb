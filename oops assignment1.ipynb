{
 "cells": [
  {
   "cell_type": "code",
   "execution_count": 1,
   "id": "039648dc",
   "metadata": {},
   "outputs": [],
   "source": [
    "#Q1\n",
    "\"\"\"Class:\n",
    "\n",
    "->A class is a blueprint or template for creating objects in a programming\n",
    "language.\n",
    "->It defines the attributes (also known as properties or fields) and \n",
    "methods (functions) that objects of that class will have.\n",
    "->It acts as a blueprint from which you can create multiple instances\n",
    "or objects with the same structure and behavior.\"\"\"\n",
    "class Car:\n",
    "    def __init__(self, make, model, year):\n",
    "        self.make = make\n",
    "        self.model = model\n",
    "        self.year = year\n",
    "        self.engine_status = 'off'\n",
    "\n",
    "    def start_engine(self):\n",
    "        self.engine_status = 'on'\n",
    "        print(f\"{self.make} {self.model}'s engine is now on.\")\n",
    "\n",
    "    def stop_engine(self):\n",
    "        self.engine_status = 'off'\n",
    "        print(f\"{self.make} {self.model}'s engine is now off.\")"
   ]
  },
  {
   "cell_type": "code",
   "execution_count": 2,
   "id": "5f98d587",
   "metadata": {},
   "outputs": [
    {
     "name": "stdout",
     "output_type": "stream",
     "text": [
      "Toyota Camry (2023)\n",
      "Toyota Camry's engine is now on.\n",
      "Honda Civic (2023)\n",
      "Honda Civic's engine is now on.\n"
     ]
    }
   ],
   "source": [
    "#object\n",
    "\"\"\"Object:\n",
    "\n",
    "->An object is an instance of a class, created based on the class's blueprint.\n",
    "->It represents a real-world entity or concept that can have its own unique \n",
    "state (attributes) and behavior (methods).\n",
    "->Objects allow you to work with specific instances of a class, each with \n",
    "its own data and behavior.\"\"\"\n",
    "# Creating two Car objects\n",
    "car1 = Car(\"Toyota\", \"Camry\", 2023)\n",
    "car2 = Car(\"Honda\", \"Civic\", 2023)\n",
    "\n",
    "# Accessing attributes and methods of the objects\n",
    "print(f\"{car1.make} {car1.model} ({car1.year})\")\n",
    "car1.start_engine()\n",
    "\n",
    "print(f\"{car2.make} {car2.model} ({car2.year})\")\n",
    "car2.start_engine()"
   ]
  },
  {
   "cell_type": "code",
   "execution_count": 4,
   "id": "63318000",
   "metadata": {},
   "outputs": [
    {
     "data": {
      "text/plain": [
       "'The four pillars of oops are\\n   ->Encapsulation\\n   ->Inheritance\\n   ->Polymorphism\\n   ->Abstraction'"
      ]
     },
     "execution_count": 4,
     "metadata": {},
     "output_type": "execute_result"
    }
   ],
   "source": [
    "#Q2\n",
    "\"\"\"The four pillars of oops are\n",
    "   ->Encapsulation\n",
    "   ->Inheritance\n",
    "   ->Polymorphism\n",
    "   ->Abstraction   \"\"\""
   ]
  },
  {
   "cell_type": "code",
   "execution_count": 5,
   "id": "b20cbc06",
   "metadata": {},
   "outputs": [
    {
     "name": "stdout",
     "output_type": "stream",
     "text": [
      "Hi, I'm Alice, and I'm 30 years old.\n",
      "Hi, I'm Bob, and I'm 25 years old.\n"
     ]
    }
   ],
   "source": [
    "#Q3\n",
    "\"\"\"The __init__() function, also known as the constructor method, \n",
    "is used in Python classes to initialize and set the initial state\n",
    "of an object when it is created from that class. It is called \n",
    "automatically when an object is instantiated (created) from a class \n",
    "and is often used to initialize the object's attributes.\"\"\"\n",
    "class Person:\n",
    "    def __init__(self, name, age):\n",
    "        self.name = name\n",
    "        self.age = age\n",
    "    \n",
    "    def introduce(self):\n",
    "        print(f\"Hi, I'm {self.name}, and I'm {self.age} years old.\")\n",
    "\n",
    "# Creating objects of the Person class\n",
    "person1 = Person(\"Alice\", 30)\n",
    "person2 = Person(\"Bob\", 25)\n",
    "\n",
    "# Accessing object attributes and methods\n",
    "person1.introduce()  # Output: Hi, I'm Alice, and I'm 30 years old.\n",
    "person2.introduce()  # Output: Hi, I'm Bob, and I'm 25 years old.\n",
    "\n",
    "\n",
    "\n",
    "\n"
   ]
  },
  {
   "cell_type": "code",
   "execution_count": 6,
   "id": "fc84ecf5",
   "metadata": {},
   "outputs": [
    {
     "name": "stdout",
     "output_type": "stream",
     "text": [
      "Radius: 5\n",
      "Area: 78.5\n"
     ]
    }
   ],
   "source": [
    "#Q4\n",
    "\"\"\"\n",
    "In OOP, self is used to refer to the instance of a class within its methods,\n",
    "allowing access to instance-specific data and behavior. It distinguishes \n",
    "instance variables from local ones, supports method chaining, and enables \n",
    "the use of object-oriented principles like encapsulation and inheritance.\n",
    "\"\"\"\n",
    "class Circle:\n",
    "    def __init__(self, radius):\n",
    "        self.radius = radius\n",
    "\n",
    "    def calculate_area(self):\n",
    "        return 3.14 * self.radius * self.radius\n",
    "\n",
    "# Creating an instance of the Circle class\n",
    "circle1 = Circle(5)\n",
    "\n",
    "# Accessing the instance variable and calling a method\n",
    "print(f\"Radius: {circle1.radius}\")\n",
    "area = circle1.calculate_area()\n",
    "print(f\"Area: {area}\")"
   ]
  },
  {
   "cell_type": "code",
   "execution_count": 7,
   "id": "aa66b3c8",
   "metadata": {},
   "outputs": [],
   "source": [
    "#Q5\n",
    "\"\"\"\n",
    "Inheritance in OOP is a mechanism where one class (subclass) can inherit \n",
    "attributes and methods from another class (superclass). It promotes code\n",
    "reuse and creates a hierarchy of related classes.\n",
    "\"\"\"\n",
    "#single inheritance\n",
    "class Animal:\n",
    "    def speak(self):\n",
    "        pass\n",
    "\n",
    "class Dog(Animal):\n",
    "    def speak(self):\n",
    "        return \"Woof!\"\n",
    "\n",
    "class Cat(Animal):\n",
    "    def speak(self):\n",
    "        return \"Meow!\"\n"
   ]
  },
  {
   "cell_type": "code",
   "execution_count": 8,
   "id": "1e01b258",
   "metadata": {},
   "outputs": [],
   "source": [
    "#multiple inheritance\n",
    "class Flyable:\n",
    "    def fly(self):\n",
    "        pass\n",
    "\n",
    "class Swimmable:\n",
    "    def swim(self):\n",
    "        pass\n",
    "\n",
    "class Bird(Flyable, Swimmable):\n",
    "    pass\n"
   ]
  },
  {
   "cell_type": "code",
   "execution_count": 9,
   "id": "12b278f7",
   "metadata": {},
   "outputs": [],
   "source": [
    "#Multilevel inheritance\n",
    "class Animal:\n",
    "    def speak(self):\n",
    "        pass\n",
    "\n",
    "class Mammal(Animal):\n",
    "    def give_birth(self):\n",
    "        pass\n",
    "\n",
    "class Dog(Mammal):\n",
    "    def speak(self):\n",
    "        return \"Woof!\""
   ]
  },
  {
   "cell_type": "code",
   "execution_count": null,
   "id": "2d42b649",
   "metadata": {},
   "outputs": [],
   "source": [
    "#Hierarchical Inheritance\n",
    "class Shape:\n",
    "    def area(self):\n",
    "        pass\n",
    "\n",
    "class Circle(Shape):\n",
    "    def area(self):\n",
    "        return 3.14 * self.radius * self.radius\n",
    "\n",
    "class Square(Shape):\n",
    "    def area(self):\n",
    "        return self.side_length * self.side_length"
   ]
  }
 ],
 "metadata": {
  "kernelspec": {
   "display_name": "Python 3 (ipykernel)",
   "language": "python",
   "name": "python3"
  },
  "language_info": {
   "codemirror_mode": {
    "name": "ipython",
    "version": 3
   },
   "file_extension": ".py",
   "mimetype": "text/x-python",
   "name": "python",
   "nbconvert_exporter": "python",
   "pygments_lexer": "ipython3",
   "version": "3.9.13"
  }
 },
 "nbformat": 4,
 "nbformat_minor": 5
}
